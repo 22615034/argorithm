{
 "cells": [
  {
   "cell_type": "code",
   "execution_count": 1,
   "id": "a5081bb2",
   "metadata": {},
   "outputs": [
    {
     "name": "stdout",
     "output_type": "stream",
     "text": [
      "첫 번째 숫자를 입력하세요: 1679\n",
      "두 번째 숫자를 입력하세요: 874\n",
      "1679와 874의 최대공약수는 23입니다.\n"
     ]
    }
   ],
   "source": [
    "def gcd(a, b):\n",
    "    while b != 0:\n",
    "        a, b = b, a % b\n",
    "    return a\n",
    "\n",
    "# 사용자 입력\n",
    "num1 = int(input(\"첫 번째 숫자를 입력하세요: \"))\n",
    "num2 = int(input(\"두 번째 숫자를 입력하세요: \"))\n",
    "\n",
    "# 최대공약수 계산 및 출력\n",
    "result = gcd(num1, num2)\n",
    "print(f\"{num1}와 {num2}의 최대공약수는 {result}입니다.\")\n"
   ]
  },
  {
   "cell_type": "code",
   "execution_count": 2,
   "id": "b09c131d",
   "metadata": {},
   "outputs": [
    {
     "name": "stdout",
     "output_type": "stream",
     "text": [
      "팩토리얼 7 은 5040\n"
     ]
    }
   ],
   "source": [
    "#재귀적\n",
    "def recursive_factorial(n):\n",
    "    if n == 1:\n",
    "        return 1\n",
    "    else:\n",
    "        return n * recursive_factorial(n - 1)\n",
    "\n",
    "\n",
    "n = 7\n",
    "print(\"팩토리얼\", n, \"은\", recursive_factorial(n))\n"
   ]
  },
  {
   "cell_type": "code",
   "execution_count": 3,
   "id": "7cc5b13e",
   "metadata": {},
   "outputs": [
    {
     "name": "stdout",
     "output_type": "stream",
     "text": [
      "팩토리얼 7 은 5040\n"
     ]
    }
   ],
   "source": [
    "#반복문\n",
    "def loop_factorial(n):\n",
    "    fact = 1\n",
    "    for i in range(2, n + 1):\n",
    "        fact *= i\n",
    "    return fact\n",
    "\n",
    "\n",
    "n = 7\n",
    "print(\"팩토리얼\", n, \"은\", loop_factorial(n))\n"
   ]
  },
  {
   "cell_type": "code",
   "execution_count": 4,
   "id": "6413dfa1",
   "metadata": {},
   "outputs": [
    {
     "name": "stdout",
     "output_type": "stream",
     "text": [
      "실행시간은 1624 Ticks = 0.16 ms\n"
     ]
    }
   ],
   "source": [
    "#실행시간 측정\n",
    "import time\n",
    "\n",
    "start_time = time.perf_counter()\n",
    "\n",
    "\n",
    "n = 7\n",
    "result = 1\n",
    "for i in range(1, n+1):\n",
    "    result *= i\n",
    "\n",
    "\n",
    "end_time = time.perf_counter()\n",
    "\n",
    "\n",
    "elapsed_time = end_time - start_time\n",
    "\n",
    "\n",
    "ticks = elapsed_time * 10**7  \n",
    "print(f\"실행시간은 {ticks:.0f} Ticks = {elapsed_time * 1000:.2f} ms\")\n"
   ]
  },
  {
   "cell_type": "code",
   "execution_count": 5,
   "id": "548c9de7",
   "metadata": {},
   "outputs": [
    {
     "name": "stdout",
     "output_type": "stream",
     "text": [
      "피보나치 수열 11 은 89\n"
     ]
    }
   ],
   "source": [
    "#재귀적\n",
    "def recursive_fibonacci(n):\n",
    "    if n == 1 or n == 2:\n",
    "        return 1\n",
    "    else:\n",
    "        return recursive_fibonacci(n - 1) + recursive_fibonacci(n - 2)\n",
    "\n",
    "\n",
    "n = 11\n",
    "print(f\"피보나치 수열 {n} 은 {recursive_fibonacci(n)}\")\n"
   ]
  },
  {
   "cell_type": "code",
   "execution_count": 6,
   "id": "5f9057d7",
   "metadata": {},
   "outputs": [
    {
     "name": "stdout",
     "output_type": "stream",
     "text": [
      "피보나치 수열 11 은 89\n"
     ]
    }
   ],
   "source": [
    "#반복문\n",
    "def iterative_fibonacci(n):\n",
    "    if n == 1 or n == 2:\n",
    "        return 1\n",
    "    a, b = 1, 1\n",
    "    for i in range(3, n + 1):\n",
    "        a, b = b, a + b\n",
    "    return b\n",
    "\n",
    "\n",
    "n = 11\n",
    "print(f\"피보나치 수열 {n} 은 {iterative_fibonacci(n)}\")\n"
   ]
  },
  {
   "cell_type": "code",
   "execution_count": 9,
   "id": "4886081d",
   "metadata": {},
   "outputs": [
    {
     "name": "stdout",
     "output_type": "stream",
     "text": [
      "이동 A 에서 B\n",
      "이동 2 로 A 에서 C\n",
      "이동 B 에서 C\n",
      "이동 3 로 A 에서 B\n",
      "이동 C 에서 A\n",
      "이동 2 로 C 에서 B\n",
      "이동 A 에서 B\n",
      "이동 4 로 A 에서 C\n",
      "이동 B 에서 C\n",
      "이동 2 로 B 에서 A\n",
      "이동 C 에서 A\n",
      "이동 3 로 B 에서 C\n",
      "이동 A 에서 B\n",
      "이동 2 로 A 에서 C\n",
      "이동 B 에서 C\n"
     ]
    }
   ],
   "source": [
    "def hanoi(n, from_pole, to_pole, aux_pole):\n",
    "    if n == 1:\n",
    "        print(f\"이동 {from_pole} 에서 {to_pole}\")\n",
    "    else:\n",
    "        hanoi(n - 1, from_pole, aux_pole, to_pole)\n",
    "        print(f\"이동 {n} 로 {from_pole} 에서 {to_pole}\")\n",
    "        hanoi(n - 1, aux_pole, to_pole, from_pole)\n",
    "\n",
    "hanoi(4, 'A', 'C', 'B')\n"
   ]
  },
  {
   "cell_type": "code",
   "execution_count": 10,
   "id": "dcebce65",
   "metadata": {},
   "outputs": [],
   "source": [
    "#합병 정렬\n",
    "import time \n",
    "\n",
    "def merge_sort(arr):\n",
    "    if len(arr) <= 1:\n",
    "        return arr\n",
    "\n",
    "    mid = len(arr) // 2\n",
    "    left_half = merge_sort(arr[:mid])\n",
    "    right_half = merge_sort(arr[mid:])\n",
    "\n",
    "    return merge(left_half, right_half)\n",
    "\n",
    "def merge(left, right):\n",
    "    result = []\n",
    "    i = j = 0\n",
    "\n",
    "    while i < len(left) and j < len(right):\n",
    "        if left[i] < right[j]:\n",
    "            result.append(left[i])\n",
    "            i += 1\n",
    "        else:\n",
    "            result.append(right[j])\n",
    "            j += 1\n",
    "\n",
    "    result.extend(left[i:])\n",
    "    result.extend(right[j:])\n",
    "\n",
    "    return result"
   ]
  },
  {
   "cell_type": "code",
   "execution_count": 11,
   "id": "5f1d91ac",
   "metadata": {},
   "outputs": [
    {
     "name": "stdout",
     "output_type": "stream",
     "text": [
      "정렬된 배열: [3, 9, 10, 27, 38, 43, 82]\n",
      "실행 시간: 0.000000초\n"
     ]
    }
   ],
   "source": [
    "import time\n",
    "if __name__ == \"__main__\":\n",
    "    arr = [38, 27, 43, 3, 9, 82, 10]\n",
    "\n",
    "    start_time = time.time()\n",
    "    \n",
    "    sorted_arr = merge_sort(arr)\n",
    "\n",
    "    end_time = time.time()\n",
    "\n",
    "    print(\"정렬된 배열:\", sorted_arr)\n",
    "    print(\"실행 시간: {:.6f}초\".format(end_time - start_time))"
   ]
  },
  {
   "cell_type": "code",
   "execution_count": 5,
   "id": "63bcf9a8",
   "metadata": {},
   "outputs": [],
   "source": [
    "#퀵 정렬\n",
    "def quick_sort(arr):\n",
    "    if len(arr) <= 1:\n",
    "        return arr\n",
    "\n",
    "    pivot = arr[len(arr) // 2]  \n",
    "    left = [x for x in arr if x < pivot]  \n",
    "    middle = [x for x in arr if x == pivot] \n",
    "    right = [x for x in arr if x > pivot] \n",
    "\n",
    "    return quick_sort(left) + middle + quick_sort(right)"
   ]
  },
  {
   "cell_type": "code",
   "execution_count": 12,
   "id": "bdb693de",
   "metadata": {},
   "outputs": [
    {
     "name": "stdout",
     "output_type": "stream",
     "text": [
      "정렬된 배열: [3, 9, 10, 27, 38, 43, 82]\n",
      "실행 시간: 0.000000초\n"
     ]
    }
   ],
   "source": [
    "import time\n",
    "if __name__ == \"__main__\":\n",
    "    arr = [38, 27, 43, 3, 9, 82, 10]\n",
    "\n",
    "    start_time = time.time()\n",
    "    \n",
    "    sorted_arr = quick_sort(arr)\n",
    "\n",
    "    end_time = time.time()\n",
    "\n",
    "    print(\"정렬된 배열:\", sorted_arr)\n",
    "    print(\"실행 시간: {:.6f}초\".format(end_time - start_time))"
   ]
  },
  {
   "cell_type": "code",
   "execution_count": 14,
   "id": "026f1b27",
   "metadata": {},
   "outputs": [],
   "source": [
    "# 버블 정렬\n",
    "def bubble_sort(arr):\n",
    "    n = len(arr)\n",
    "    for i in range(n):\n",
    "        for j in range(0, n - i - 1):\n",
    "            if arr[j] > arr[j + 1]:\n",
    "                arr[j], arr[j + 1] = arr[j + 1], arr[j]\n",
    "    return arr"
   ]
  },
  {
   "cell_type": "code",
   "execution_count": 15,
   "id": "cc54b666",
   "metadata": {},
   "outputs": [
    {
     "name": "stdout",
     "output_type": "stream",
     "text": [
      "정렬된 배열: [3, 9, 10, 27, 38, 43, 82]\n",
      "실행 시간: 0.000996초\n"
     ]
    }
   ],
   "source": [
    "import time\n",
    "if __name__ == \"__main__\":\n",
    "    arr = [38, 27, 43, 3, 9, 82, 10]\n",
    "\n",
    "    start_time = time.time()\n",
    "    \n",
    "    sorted_arr = bubble_sort(arr)\n",
    "\n",
    "    end_time = time.time()\n",
    "\n",
    "    print(\"정렬된 배열:\", sorted_arr)\n",
    "    print(\"실행 시간: {:.6f}초\".format(end_time - start_time))\n"
   ]
  },
  {
   "cell_type": "code",
   "execution_count": null,
   "id": "f95f642e",
   "metadata": {},
   "outputs": [],
   "source": []
  }
 ],
 "metadata": {
  "kernelspec": {
   "display_name": "Python 3 (ipykernel)",
   "language": "python",
   "name": "python3"
  },
  "language_info": {
   "codemirror_mode": {
    "name": "ipython",
    "version": 3
   },
   "file_extension": ".py",
   "mimetype": "text/x-python",
   "name": "python",
   "nbconvert_exporter": "python",
   "pygments_lexer": "ipython3",
   "version": "3.11.7"
  }
 },
 "nbformat": 4,
 "nbformat_minor": 5
}
